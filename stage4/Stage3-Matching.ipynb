{
 "cells": [
  {
   "cell_type": "code",
   "execution_count": 1,
   "metadata": {
    "collapsed": true
   },
   "outputs": [],
   "source": [
    "import py_entitymatching as em\n",
    "import logging"
   ]
  },
  {
   "cell_type": "code",
   "execution_count": 2,
   "metadata": {},
   "outputs": [
    {
     "name": "stderr",
     "output_type": "stream",
     "text": [
      "No handlers could be found for logger \"py_entitymatching.io.parsers\"\n"
     ]
    }
   ],
   "source": [
    "table_a = em.read_csv_metadata('anime_1.csv', key='ID')\n",
    "table_b = em.read_csv_metadata('animePlayer.csv', key='ID')"
   ]
  },
  {
   "cell_type": "code",
   "execution_count": 3,
   "metadata": {},
   "outputs": [
    {
     "data": {
      "text/plain": [
       "81318"
      ]
     },
     "execution_count": 3,
     "metadata": {},
     "output_type": "execute_result"
    }
   ],
   "source": [
    "candidate_set = em.read_csv_metadata('candidate_set.csv', ltable=table_a,rtable=table_b)\n",
    "len(candidate_set)"
   ]
  },
  {
   "cell_type": "code",
   "execution_count": 4,
   "metadata": {
    "collapsed": true
   },
   "outputs": [],
   "source": [
    "sample = em.sample_table(candidate_set,600)"
   ]
  },
  {
   "cell_type": "code",
   "execution_count": 6,
   "metadata": {},
   "outputs": [
    {
     "data": {
      "text/html": [
       "<div>\n",
       "<table border=\"1\" class=\"dataframe\">\n",
       "  <thead>\n",
       "    <tr style=\"text-align: right;\">\n",
       "      <th></th>\n",
       "      <th>_id</th>\n",
       "      <th>ltable_ID</th>\n",
       "      <th>rtable_ID</th>\n",
       "      <th>ltable_Title</th>\n",
       "      <th>ltable_Genres_Merged</th>\n",
       "      <th>ltable_Episodes</th>\n",
       "      <th>ltable_Year</th>\n",
       "      <th>ltable_Type</th>\n",
       "      <th>ltable_ProductionHouse_Merged</th>\n",
       "      <th>rtable_Title</th>\n",
       "      <th>rtable_Genres_Merged</th>\n",
       "      <th>rtable_Episodes</th>\n",
       "      <th>rtable_Year</th>\n",
       "      <th>rtable_Type</th>\n",
       "      <th>rtable_ProductionHouse_Merged</th>\n",
       "    </tr>\n",
       "  </thead>\n",
       "  <tbody>\n",
       "    <tr>\n",
       "      <th>26</th>\n",
       "      <td>26</td>\n",
       "      <td>560</td>\n",
       "      <td>11</td>\n",
       "      <td>Hunter x Hunter Pilot</td>\n",
       "      <td>ActionAdventureShounenSuperPower</td>\n",
       "      <td>1</td>\n",
       "      <td>1998-1998</td>\n",
       "      <td>OVA</td>\n",
       "      <td>StudioPierrot</td>\n",
       "      <td>Hunter x Hunter (2011)</td>\n",
       "      <td>ActionAdventureBasedonaMangaShounenSuperpowersViolence</td>\n",
       "      <td>148</td>\n",
       "      <td>2011 - 2014</td>\n",
       "      <td>TV</td>\n",
       "      <td>MADHOUSE</td>\n",
       "    </tr>\n",
       "  </tbody>\n",
       "</table>\n",
       "</div>"
      ],
      "text/plain": [
       "    _id  ltable_ID  rtable_ID           ltable_Title  \\\n",
       "26   26        560         11  Hunter x Hunter Pilot   \n",
       "\n",
       "                ltable_Genres_Merged ltable_Episodes ltable_Year ltable_Type  \\\n",
       "26  ActionAdventureShounenSuperPower               1   1998-1998         OVA   \n",
       "\n",
       "   ltable_ProductionHouse_Merged            rtable_Title  \\\n",
       "26                 StudioPierrot  Hunter x Hunter (2011)   \n",
       "\n",
       "                                      rtable_Genres_Merged rtable_Episodes  \\\n",
       "26  ActionAdventureBasedonaMangaShounenSuperpowersViolence             148   \n",
       "\n",
       "    rtable_Year rtable_Type rtable_ProductionHouse_Merged  \n",
       "26  2011 - 2014          TV                      MADHOUSE  "
      ]
     },
     "execution_count": 6,
     "metadata": {},
     "output_type": "execute_result"
    }
   ],
   "source": [
    "sample.head(1)"
   ]
  },
  {
   "cell_type": "code",
   "execution_count": 7,
   "metadata": {},
   "outputs": [
    {
     "data": {
      "text/plain": [
       "True"
      ]
     },
     "execution_count": 7,
     "metadata": {},
     "output_type": "execute_result"
    }
   ],
   "source": [
    "em.to_csv_metadata(sample,'samples.csv')"
   ]
  },
  {
   "cell_type": "code",
   "execution_count": 8,
   "metadata": {
    "collapsed": true
   },
   "outputs": [],
   "source": [
    "#gold = em.label_table(sample,'gold')"
   ]
  },
  {
   "cell_type": "code",
   "execution_count": 9,
   "metadata": {
    "collapsed": true
   },
   "outputs": [],
   "source": [
    "#cols = ['ltable_Title', 'ltable_Genres', 'ltable_Type', 'ltable_ProductionHouse', 'ltable_Year',\n",
    "#       'rtable_Title', 'rtable_Genres', 'rtable_Type', 'rtable_ProductionHouse', 'rtable_Year']\n",
    "\n",
    "#for col in cols:\n",
    "#    gold[col] = gold[col].astype(unicode)"
   ]
  },
  {
   "cell_type": "code",
   "execution_count": 10,
   "metadata": {
    "collapsed": true
   },
   "outputs": [],
   "source": [
    "#gold.head()"
   ]
  },
  {
   "cell_type": "code",
   "execution_count": 11,
   "metadata": {
    "collapsed": true
   },
   "outputs": [],
   "source": [
    "#em.to_csv_metadata(gold, 'transform_genres/gold.csv',encoding='utf-8')"
   ]
  },
  {
   "cell_type": "code",
   "execution_count": 12,
   "metadata": {
    "collapsed": true
   },
   "outputs": [],
   "source": [
    "gold = em.read_csv_metadata('gold_manually_marked.csv',ltable=table_a,rtable=table_b)"
   ]
  },
  {
   "cell_type": "code",
   "execution_count": 13,
   "metadata": {
    "scrolled": true
   },
   "outputs": [
    {
     "data": {
      "text/html": [
       "<div>\n",
       "<table border=\"1\" class=\"dataframe\">\n",
       "  <thead>\n",
       "    <tr style=\"text-align: right;\">\n",
       "      <th></th>\n",
       "      <th>_id</th>\n",
       "      <th>ltable_ID</th>\n",
       "      <th>rtable_ID</th>\n",
       "      <th>ltable_Title</th>\n",
       "      <th>ltable_Genres_Merged</th>\n",
       "      <th>ltable_Episodes</th>\n",
       "      <th>ltable_Year</th>\n",
       "      <th>ltable_Type</th>\n",
       "      <th>ltable_ProductionHouse_Merged</th>\n",
       "      <th>rtable_Title</th>\n",
       "      <th>rtable_Genres_Merged</th>\n",
       "      <th>rtable_Episodes</th>\n",
       "      <th>rtable_Year</th>\n",
       "      <th>rtable_Type</th>\n",
       "      <th>rtable_ProductionHouse_Merged</th>\n",
       "      <th>gold</th>\n",
       "    </tr>\n",
       "  </thead>\n",
       "  <tbody>\n",
       "    <tr>\n",
       "      <th>0</th>\n",
       "      <td>21622</td>\n",
       "      <td>3</td>\n",
       "      <td>17</td>\n",
       "      <td>Suzumiya Haruhi no Shoushitsu</td>\n",
       "      <td>ComedyMysteryRomanceSchoolSci-FiSupernatural</td>\n",
       "      <td>1</td>\n",
       "      <td>2010-2010</td>\n",
       "      <td>Movie</td>\n",
       "      <td>KyotoAnimationKadokawaShotenBandaiEntertainmentAnimationDo</td>\n",
       "      <td>Suzumiya Haruhi no Shoushitsu</td>\n",
       "      <td>DramaPsychologicalSciFiTimeTravel</td>\n",
       "      <td>1</td>\n",
       "      <td>2010</td>\n",
       "      <td>Movie</td>\n",
       "      <td>KyotoAnimation</td>\n",
       "      <td>1</td>\n",
       "    </tr>\n",
       "  </tbody>\n",
       "</table>\n",
       "</div>"
      ],
      "text/plain": [
       "     _id  ltable_ID  rtable_ID                   ltable_Title  \\\n",
       "0  21622          3         17  Suzumiya Haruhi no Shoushitsu   \n",
       "\n",
       "                           ltable_Genres_Merged ltable_Episodes ltable_Year  \\\n",
       "0  ComedyMysteryRomanceSchoolSci-FiSupernatural               1   2010-2010   \n",
       "\n",
       "  ltable_Type                               ltable_ProductionHouse_Merged  \\\n",
       "0       Movie  KyotoAnimationKadokawaShotenBandaiEntertainmentAnimationDo   \n",
       "\n",
       "                    rtable_Title               rtable_Genres_Merged  \\\n",
       "0  Suzumiya Haruhi no Shoushitsu  DramaPsychologicalSciFiTimeTravel   \n",
       "\n",
       "  rtable_Episodes rtable_Year rtable_Type rtable_ProductionHouse_Merged  gold  \n",
       "0               1        2010       Movie                KyotoAnimation     1  "
      ]
     },
     "execution_count": 13,
     "metadata": {},
     "output_type": "execute_result"
    }
   ],
   "source": [
    "gold.head(1)"
   ]
  },
  {
   "cell_type": "code",
   "execution_count": 136,
   "metadata": {
    "collapsed": true
   },
   "outputs": [],
   "source": [
    "setIJ = em.split_train_test(gold, train_proportion=0.5)"
   ]
  },
  {
   "cell_type": "code",
   "execution_count": 137,
   "metadata": {},
   "outputs": [
    {
     "data": {
      "text/plain": [
       "(300, 300)"
      ]
     },
     "execution_count": 137,
     "metadata": {},
     "output_type": "execute_result"
    }
   ],
   "source": [
    "I = setIJ['train']\n",
    "J = setIJ['test']\n",
    "(len(I), len(J))"
   ]
  },
  {
   "cell_type": "code",
   "execution_count": 138,
   "metadata": {},
   "outputs": [
    {
     "data": {
      "text/html": [
       "<div>\n",
       "<table border=\"1\" class=\"dataframe\">\n",
       "  <thead>\n",
       "    <tr style=\"text-align: right;\">\n",
       "      <th></th>\n",
       "      <th>_id</th>\n",
       "      <th>ltable_ID</th>\n",
       "      <th>rtable_ID</th>\n",
       "      <th>ltable_Title</th>\n",
       "      <th>ltable_Genres_Merged</th>\n",
       "      <th>ltable_Episodes</th>\n",
       "      <th>ltable_Year</th>\n",
       "      <th>ltable_Type</th>\n",
       "      <th>ltable_ProductionHouse_Merged</th>\n",
       "      <th>rtable_Title</th>\n",
       "      <th>rtable_Genres_Merged</th>\n",
       "      <th>rtable_Episodes</th>\n",
       "      <th>rtable_Year</th>\n",
       "      <th>rtable_Type</th>\n",
       "      <th>rtable_ProductionHouse_Merged</th>\n",
       "      <th>gold</th>\n",
       "    </tr>\n",
       "  </thead>\n",
       "  <tbody>\n",
       "    <tr>\n",
       "      <th>347</th>\n",
       "      <td>8828</td>\n",
       "      <td>1597</td>\n",
       "      <td>1570</td>\n",
       "      <td>Space Cobra (Space Adventure Cobra)</td>\n",
       "      <td>ActionAdventureSci-FiSpace</td>\n",
       "      <td>31</td>\n",
       "      <td>1982-1983</td>\n",
       "      <td>TV</td>\n",
       "      <td>TokyoMovieShinshaRightStuf</td>\n",
       "      <td>Adventures of Horus: Prince of the Sun</td>\n",
       "      <td>Fantasy</td>\n",
       "      <td>1</td>\n",
       "      <td>1968</td>\n",
       "      <td>Movie</td>\n",
       "      <td>ToeiAnimation</td>\n",
       "      <td>0</td>\n",
       "    </tr>\n",
       "  </tbody>\n",
       "</table>\n",
       "</div>"
      ],
      "text/plain": [
       "      _id  ltable_ID  rtable_ID                         ltable_Title  \\\n",
       "347  8828       1597       1570  Space Cobra (Space Adventure Cobra)   \n",
       "\n",
       "           ltable_Genres_Merged ltable_Episodes ltable_Year ltable_Type  \\\n",
       "347  ActionAdventureSci-FiSpace              31   1982-1983          TV   \n",
       "\n",
       "    ltable_ProductionHouse_Merged                            rtable_Title  \\\n",
       "347    TokyoMovieShinshaRightStuf  Adventures of Horus: Prince of the Sun   \n",
       "\n",
       "    rtable_Genres_Merged rtable_Episodes rtable_Year rtable_Type  \\\n",
       "347              Fantasy               1        1968       Movie   \n",
       "\n",
       "    rtable_ProductionHouse_Merged  gold  \n",
       "347                 ToeiAnimation     0  "
      ]
     },
     "execution_count": 138,
     "metadata": {},
     "output_type": "execute_result"
    }
   ],
   "source": [
    "I.head(1)"
   ]
  },
  {
   "cell_type": "code",
   "execution_count": 139,
   "metadata": {},
   "outputs": [
    {
     "data": {
      "text/plain": [
       "True"
      ]
     },
     "execution_count": 139,
     "metadata": {},
     "output_type": "execute_result"
    }
   ],
   "source": [
    "em.to_csv_metadata(I,'setI.csv')"
   ]
  },
  {
   "cell_type": "code",
   "execution_count": 140,
   "metadata": {
    "scrolled": true
   },
   "outputs": [
    {
     "data": {
      "text/html": [
       "<div>\n",
       "<table border=\"1\" class=\"dataframe\">\n",
       "  <thead>\n",
       "    <tr style=\"text-align: right;\">\n",
       "      <th></th>\n",
       "      <th>_id</th>\n",
       "      <th>ltable_ID</th>\n",
       "      <th>rtable_ID</th>\n",
       "      <th>ltable_Title</th>\n",
       "      <th>ltable_Genres_Merged</th>\n",
       "      <th>ltable_Episodes</th>\n",
       "      <th>ltable_Year</th>\n",
       "      <th>ltable_Type</th>\n",
       "      <th>ltable_ProductionHouse_Merged</th>\n",
       "      <th>rtable_Title</th>\n",
       "      <th>rtable_Genres_Merged</th>\n",
       "      <th>rtable_Episodes</th>\n",
       "      <th>rtable_Year</th>\n",
       "      <th>rtable_Type</th>\n",
       "      <th>rtable_ProductionHouse_Merged</th>\n",
       "      <th>gold</th>\n",
       "    </tr>\n",
       "  </thead>\n",
       "  <tbody>\n",
       "    <tr>\n",
       "      <th>458</th>\n",
       "      <td>52874</td>\n",
       "      <td>2706</td>\n",
       "      <td>8914</td>\n",
       "      <td>Mobile Suit Gundam ZZ</td>\n",
       "      <td>ComedyDramaMechaMilitarySci-FiShounenSpace</td>\n",
       "      <td>47</td>\n",
       "      <td>1986-1987</td>\n",
       "      <td>TV</td>\n",
       "      <td>Sunrise</td>\n",
       "      <td>Mobile Suit Gundam ZZ</td>\n",
       "      <td>FuturisticMechaOuterSpaceSciFi</td>\n",
       "      <td>47</td>\n",
       "      <td>1986 - 1987</td>\n",
       "      <td>TV</td>\n",
       "      <td>Sunrise</td>\n",
       "      <td>1</td>\n",
       "    </tr>\n",
       "  </tbody>\n",
       "</table>\n",
       "</div>"
      ],
      "text/plain": [
       "       _id  ltable_ID  rtable_ID           ltable_Title  \\\n",
       "458  52874       2706       8914  Mobile Suit Gundam ZZ   \n",
       "\n",
       "                           ltable_Genres_Merged ltable_Episodes ltable_Year  \\\n",
       "458  ComedyDramaMechaMilitarySci-FiShounenSpace              47   1986-1987   \n",
       "\n",
       "    ltable_Type ltable_ProductionHouse_Merged           rtable_Title  \\\n",
       "458          TV                       Sunrise  Mobile Suit Gundam ZZ   \n",
       "\n",
       "               rtable_Genres_Merged rtable_Episodes  rtable_Year rtable_Type  \\\n",
       "458  FuturisticMechaOuterSpaceSciFi              47  1986 - 1987          TV   \n",
       "\n",
       "    rtable_ProductionHouse_Merged  gold  \n",
       "458                       Sunrise     1  "
      ]
     },
     "execution_count": 140,
     "metadata": {},
     "output_type": "execute_result"
    }
   ],
   "source": [
    "J.head(1)"
   ]
  },
  {
   "cell_type": "code",
   "execution_count": 141,
   "metadata": {},
   "outputs": [
    {
     "data": {
      "text/plain": [
       "True"
      ]
     },
     "execution_count": 141,
     "metadata": {},
     "output_type": "execute_result"
    }
   ],
   "source": [
    "em.to_csv_metadata(J,'setJ.csv')"
   ]
  },
  {
   "cell_type": "markdown",
   "metadata": {},
   "source": []
  },
  {
   "cell_type": "code",
   "execution_count": 142,
   "metadata": {
    "collapsed": true
   },
   "outputs": [],
   "source": [
    "dt = em.DTMatcher(name='DecisionTree', random_state=0)\n",
    "rf = em.RFMatcher(name='RandomForest', random_state=0)\n",
    "svm = em.SVMMatcher(name='SVM')\n",
    "nb = em.NBMatcher(name='NaiveBayes')\n",
    "lg = em.LogRegMatcher(name='LogisticRegression')\n",
    "ln = em.LinRegMatcher(name='LinearRegression')"
   ]
  },
  {
   "cell_type": "code",
   "execution_count": 143,
   "metadata": {},
   "outputs": [
    {
     "data": {
      "text/plain": [
       "('DecisionTree',\n",
       " 'RandomForest',\n",
       " 'SVM',\n",
       " 'NaiveBayes',\n",
       " 'LogisticRegression',\n",
       " 'LinearRegression')"
      ]
     },
     "execution_count": 143,
     "metadata": {},
     "output_type": "execute_result"
    }
   ],
   "source": [
    "# Names of the matchers\n",
    "(dt.name, rf.name,svm.name,nb.name, lg.name, ln.name)"
   ]
  },
  {
   "cell_type": "code",
   "execution_count": 144,
   "metadata": {},
   "outputs": [
    {
     "data": {
      "text/html": [
       "<div>\n",
       "<table border=\"1\" class=\"dataframe\">\n",
       "  <thead>\n",
       "    <tr style=\"text-align: right;\">\n",
       "      <th></th>\n",
       "      <th>feature_name</th>\n",
       "      <th>left_attribute</th>\n",
       "      <th>right_attribute</th>\n",
       "      <th>left_attr_tokenizer</th>\n",
       "      <th>right_attr_tokenizer</th>\n",
       "      <th>simfunction</th>\n",
       "      <th>function</th>\n",
       "      <th>function_source</th>\n",
       "      <th>is_auto_generated</th>\n",
       "    </tr>\n",
       "  </thead>\n",
       "  <tbody>\n",
       "    <tr>\n",
       "      <th>0</th>\n",
       "      <td>ID_ID_exm</td>\n",
       "      <td>ID</td>\n",
       "      <td>ID</td>\n",
       "      <td>None</td>\n",
       "      <td>None</td>\n",
       "      <td>exact_match</td>\n",
       "      <td>&lt;function ID_ID_exm at 0x10ef38de8&gt;</td>\n",
       "      <td>from py_entitymatching.feature.simfunctions import *\\nfrom py_entitymatching.feature.tokenizers ...</td>\n",
       "      <td>True</td>\n",
       "    </tr>\n",
       "  </tbody>\n",
       "</table>\n",
       "</div>"
      ],
      "text/plain": [
       "  feature_name left_attribute right_attribute left_attr_tokenizer  \\\n",
       "0    ID_ID_exm             ID              ID                None   \n",
       "\n",
       "  right_attr_tokenizer  simfunction                             function  \\\n",
       "0                 None  exact_match  <function ID_ID_exm at 0x10ef38de8>   \n",
       "\n",
       "                                                                                       function_source  \\\n",
       "0  from py_entitymatching.feature.simfunctions import *\\nfrom py_entitymatching.feature.tokenizers ...   \n",
       "\n",
       "  is_auto_generated  \n",
       "0              True  "
      ]
     },
     "execution_count": 144,
     "metadata": {},
     "output_type": "execute_result"
    }
   ],
   "source": [
    "feature_table = em.get_features_for_matching(table_a, table_b)\n",
    "feature_table.head(1)"
   ]
  },
  {
   "cell_type": "code",
   "execution_count": 145,
   "metadata": {},
   "outputs": [
    {
     "data": {
      "text/plain": [
       "{'abs_norm': <function py_entitymatching.feature.simfunctions.abs_norm>,\n",
       " 'affine': <function py_entitymatching.feature.simfunctions.affine>,\n",
       " 'cosine': <function py_entitymatching.feature.simfunctions.cosine>,\n",
       " 'dice': <function py_entitymatching.feature.simfunctions.dice>,\n",
       " 'exact_match': <function py_entitymatching.feature.simfunctions.exact_match>,\n",
       " 'hamming_dist': <function py_entitymatching.feature.simfunctions.hamming_dist>,\n",
       " 'hamming_sim': <function py_entitymatching.feature.simfunctions.hamming_sim>,\n",
       " 'jaccard': <function py_entitymatching.feature.simfunctions.jaccard>,\n",
       " 'jaro': <function py_entitymatching.feature.simfunctions.jaro>,\n",
       " 'jaro_winkler': <function py_entitymatching.feature.simfunctions.jaro_winkler>,\n",
       " 'lev_dist': <function py_entitymatching.feature.simfunctions.lev_dist>,\n",
       " 'lev_sim': <function py_entitymatching.feature.simfunctions.lev_sim>,\n",
       " 'monge_elkan': <function py_entitymatching.feature.simfunctions.monge_elkan>,\n",
       " 'needleman_wunsch': <function py_entitymatching.feature.simfunctions.needleman_wunsch>,\n",
       " 'overlap_coeff': <function py_entitymatching.feature.simfunctions.overlap_coeff>,\n",
       " 'rel_diff': <function py_entitymatching.feature.simfunctions.rel_diff>,\n",
       " 'smith_waterman': <function py_entitymatching.feature.simfunctions.smith_waterman>}"
      ]
     },
     "execution_count": 145,
     "metadata": {},
     "output_type": "execute_result"
    }
   ],
   "source": [
    "em._match_s"
   ]
  },
  {
   "cell_type": "code",
   "execution_count": 146,
   "metadata": {},
   "outputs": [
    {
     "data": {
      "text/plain": [
       "{'alphabetic': <function py_entitymatching.feature.tokenizers.tok_alphabetic>,\n",
       " 'alphanumeric': <function py_entitymatching.feature.tokenizers.tok_alphanumeric>,\n",
       " 'dlm_dc0': <function py_entitymatching.feature.tokenizers.tok_delim>,\n",
       " 'qgm_2': <function py_entitymatching.feature.tokenizers.tok_qgram>,\n",
       " 'qgm_3': <function py_entitymatching.feature.tokenizers.tok_qgram>,\n",
       " 'wspace': <function py_entitymatching.feature.tokenizers.tok_wspace>}"
      ]
     },
     "execution_count": 146,
     "metadata": {},
     "output_type": "execute_result"
    }
   ],
   "source": [
    "em._match_t"
   ]
  },
  {
   "cell_type": "code",
   "execution_count": 147,
   "metadata": {},
   "outputs": [
    {
     "data": {
      "text/plain": [
       "[('ID', 'ID'),\n",
       " ('Title', 'Title'),\n",
       " ('Episodes', 'Episodes'),\n",
       " ('ProductionHouse', 'ProductionHouse'),\n",
       " ('Genres', 'Genres'),\n",
       " ('Type', 'Type'),\n",
       " ('Year', 'Year'),\n",
       " ('Rating', 'Rating'),\n",
       " ('ProductionHouse_Merged', 'ProductionHouse_Merged'),\n",
       " ('Genres_Merged', 'Genres_Merged')]"
      ]
     },
     "execution_count": 147,
     "metadata": {},
     "output_type": "execute_result"
    }
   ],
   "source": [
    "em._match_c['corres']"
   ]
  },
  {
   "cell_type": "code",
   "execution_count": 148,
   "metadata": {},
   "outputs": [
    {
     "data": {
      "text/html": [
       "<div>\n",
       "<table border=\"1\" class=\"dataframe\">\n",
       "  <thead>\n",
       "    <tr style=\"text-align: right;\">\n",
       "      <th></th>\n",
       "      <th>feature_name</th>\n",
       "      <th>left_attribute</th>\n",
       "      <th>right_attribute</th>\n",
       "      <th>left_attr_tokenizer</th>\n",
       "      <th>right_attr_tokenizer</th>\n",
       "      <th>simfunction</th>\n",
       "      <th>function</th>\n",
       "      <th>function_source</th>\n",
       "      <th>is_auto_generated</th>\n",
       "    </tr>\n",
       "  </thead>\n",
       "  <tbody>\n",
       "    <tr>\n",
       "      <th>4</th>\n",
       "      <td>Title_Title_jac_qgm_3_qgm_3</td>\n",
       "      <td>Title</td>\n",
       "      <td>Title</td>\n",
       "      <td>qgm_3</td>\n",
       "      <td>qgm_3</td>\n",
       "      <td>jaccard</td>\n",
       "      <td>&lt;function Title_Title_jac_qgm_3_qgm_3 at 0x10ef38b18&gt;</td>\n",
       "      <td>from py_entitymatching.feature.simfunctions import *\\nfrom py_entitymatching.feature.tokenizers ...</td>\n",
       "      <td>True</td>\n",
       "    </tr>\n",
       "  </tbody>\n",
       "</table>\n",
       "</div>"
      ],
      "text/plain": [
       "                  feature_name left_attribute right_attribute  \\\n",
       "4  Title_Title_jac_qgm_3_qgm_3          Title           Title   \n",
       "\n",
       "  left_attr_tokenizer right_attr_tokenizer simfunction  \\\n",
       "4               qgm_3                qgm_3     jaccard   \n",
       "\n",
       "                                                function  \\\n",
       "4  <function Title_Title_jac_qgm_3_qgm_3 at 0x10ef38b18>   \n",
       "\n",
       "                                                                                       function_source  \\\n",
       "4  from py_entitymatching.feature.simfunctions import *\\nfrom py_entitymatching.feature.tokenizers ...   \n",
       "\n",
       "  is_auto_generated  \n",
       "4              True  "
      ]
     },
     "execution_count": 148,
     "metadata": {},
     "output_type": "execute_result"
    }
   ],
   "source": [
    "feat_subset = feature_table[4:12]\n",
    "#feat_subset.append(feature_table[34:40])\n",
    "feat_subset.head(1)"
   ]
  },
  {
   "cell_type": "code",
   "execution_count": 149,
   "metadata": {},
   "outputs": [
    {
     "name": "stderr",
     "output_type": "stream",
     "text": [
      "0%                          100%\n",
      "[##############################] | ETA: 00:00:00\n",
      "Total time elapsed: 00:00:03\n",
      "0%                          100%\n",
      "[##############################] | ETA: 00:00:00\n",
      "Total time elapsed: 00:00:03\n"
     ]
    }
   ],
   "source": [
    "feature_vectors_I_old = em.extract_feature_vecs(I, feature_table=feat_subset, attrs_after='gold')\n",
    "feature_vectors_J_old = em.extract_feature_vecs(J, feature_table=feat_subset, attrs_after='gold')"
   ]
  },
  {
   "cell_type": "code",
   "execution_count": 150,
   "metadata": {
    "collapsed": true
   },
   "outputs": [],
   "source": [
    "feature_vectors_I_old.fillna(0, inplace=True)\n",
    "feature_vectors_J_old.fillna(0, inplace=True)"
   ]
  },
  {
   "cell_type": "code",
   "execution_count": 151,
   "metadata": {},
   "outputs": [
    {
     "data": {
      "text/html": [
       "<div>\n",
       "<table border=\"1\" class=\"dataframe\">\n",
       "  <thead>\n",
       "    <tr style=\"text-align: right;\">\n",
       "      <th></th>\n",
       "      <th>Name</th>\n",
       "      <th>Matcher</th>\n",
       "      <th>Num folds</th>\n",
       "      <th>Fold 1</th>\n",
       "      <th>Fold 2</th>\n",
       "      <th>Fold 3</th>\n",
       "      <th>Fold 4</th>\n",
       "      <th>Fold 5</th>\n",
       "      <th>Mean score</th>\n",
       "    </tr>\n",
       "  </thead>\n",
       "  <tbody>\n",
       "    <tr>\n",
       "      <th>0</th>\n",
       "      <td>DecisionTree</td>\n",
       "      <td>&lt;py_entitymatching.matcher.dtmatcher.DTMatcher object at 0x10eff4e10&gt;</td>\n",
       "      <td>5</td>\n",
       "      <td>0.925926</td>\n",
       "      <td>0.944444</td>\n",
       "      <td>0.958333</td>\n",
       "      <td>1.000000</td>\n",
       "      <td>0.884615</td>\n",
       "      <td>0.942664</td>\n",
       "    </tr>\n",
       "    <tr>\n",
       "      <th>1</th>\n",
       "      <td>RandomForest</td>\n",
       "      <td>&lt;py_entitymatching.matcher.rfmatcher.RFMatcher object at 0x10eff47d0&gt;</td>\n",
       "      <td>5</td>\n",
       "      <td>0.961538</td>\n",
       "      <td>0.850000</td>\n",
       "      <td>1.000000</td>\n",
       "      <td>0.888889</td>\n",
       "      <td>0.920000</td>\n",
       "      <td>0.924085</td>\n",
       "    </tr>\n",
       "    <tr>\n",
       "      <th>2</th>\n",
       "      <td>SVM</td>\n",
       "      <td>&lt;py_entitymatching.matcher.svmmatcher.SVMMatcher object at 0x10eff4310&gt;</td>\n",
       "      <td>5</td>\n",
       "      <td>1.000000</td>\n",
       "      <td>1.000000</td>\n",
       "      <td>1.000000</td>\n",
       "      <td>1.000000</td>\n",
       "      <td>1.000000</td>\n",
       "      <td>1.000000</td>\n",
       "    </tr>\n",
       "    <tr>\n",
       "      <th>3</th>\n",
       "      <td>NaiveBayes</td>\n",
       "      <td>&lt;py_entitymatching.matcher.nbmatcher.NBMatcher object at 0x10efe2210&gt;</td>\n",
       "      <td>5</td>\n",
       "      <td>1.000000</td>\n",
       "      <td>0.904762</td>\n",
       "      <td>0.958333</td>\n",
       "      <td>0.894737</td>\n",
       "      <td>0.954545</td>\n",
       "      <td>0.942476</td>\n",
       "    </tr>\n",
       "    <tr>\n",
       "      <th>4</th>\n",
       "      <td>LogisticRegression</td>\n",
       "      <td>&lt;py_entitymatching.matcher.logregmatcher.LogRegMatcher object at 0x10efe2a50&gt;</td>\n",
       "      <td>5</td>\n",
       "      <td>0.962963</td>\n",
       "      <td>0.904762</td>\n",
       "      <td>0.960000</td>\n",
       "      <td>0.894737</td>\n",
       "      <td>0.923077</td>\n",
       "      <td>0.929108</td>\n",
       "    </tr>\n",
       "    <tr>\n",
       "      <th>5</th>\n",
       "      <td>LinearRegression</td>\n",
       "      <td>&lt;py_entitymatching.matcher.linregmatcher.LinRegMatcher object at 0x10efe27d0&gt;</td>\n",
       "      <td>5</td>\n",
       "      <td>0.960000</td>\n",
       "      <td>0.950000</td>\n",
       "      <td>0.956522</td>\n",
       "      <td>0.937500</td>\n",
       "      <td>0.954545</td>\n",
       "      <td>0.951713</td>\n",
       "    </tr>\n",
       "  </tbody>\n",
       "</table>\n",
       "</div>"
      ],
      "text/plain": [
       "                 Name  \\\n",
       "0        DecisionTree   \n",
       "1        RandomForest   \n",
       "2                 SVM   \n",
       "3          NaiveBayes   \n",
       "4  LogisticRegression   \n",
       "5    LinearRegression   \n",
       "\n",
       "                                                                         Matcher  \\\n",
       "0          <py_entitymatching.matcher.dtmatcher.DTMatcher object at 0x10eff4e10>   \n",
       "1          <py_entitymatching.matcher.rfmatcher.RFMatcher object at 0x10eff47d0>   \n",
       "2        <py_entitymatching.matcher.svmmatcher.SVMMatcher object at 0x10eff4310>   \n",
       "3          <py_entitymatching.matcher.nbmatcher.NBMatcher object at 0x10efe2210>   \n",
       "4  <py_entitymatching.matcher.logregmatcher.LogRegMatcher object at 0x10efe2a50>   \n",
       "5  <py_entitymatching.matcher.linregmatcher.LinRegMatcher object at 0x10efe27d0>   \n",
       "\n",
       "   Num folds    Fold 1    Fold 2    Fold 3    Fold 4    Fold 5  Mean score  \n",
       "0          5  0.925926  0.944444  0.958333  1.000000  0.884615    0.942664  \n",
       "1          5  0.961538  0.850000  1.000000  0.888889  0.920000    0.924085  \n",
       "2          5  1.000000  1.000000  1.000000  1.000000  1.000000    1.000000  \n",
       "3          5  1.000000  0.904762  0.958333  0.894737  0.954545    0.942476  \n",
       "4          5  0.962963  0.904762  0.960000  0.894737  0.923077    0.929108  \n",
       "5          5  0.960000  0.950000  0.956522  0.937500  0.954545    0.951713  "
      ]
     },
     "execution_count": 151,
     "metadata": {},
     "output_type": "execute_result"
    }
   ],
   "source": [
    "result = em.select_matcher([dt,rf, svm, nb, lg, ln], table=feature_vectors_I_old, \n",
    "        exclude_attrs=['_id', 'ltable_ID', 'rtable_ID', 'gold'],\n",
    "        target_attr='gold', metric='precision', random_state=0)\n",
    "result['cv_stats']"
   ]
  },
  {
   "cell_type": "code",
   "execution_count": 152,
   "metadata": {},
   "outputs": [
    {
     "data": {
      "text/html": [
       "<div>\n",
       "<table border=\"1\" class=\"dataframe\">\n",
       "  <thead>\n",
       "    <tr style=\"text-align: right;\">\n",
       "      <th></th>\n",
       "      <th>Name</th>\n",
       "      <th>Matcher</th>\n",
       "      <th>Num folds</th>\n",
       "      <th>Fold 1</th>\n",
       "      <th>Fold 2</th>\n",
       "      <th>Fold 3</th>\n",
       "      <th>Fold 4</th>\n",
       "      <th>Fold 5</th>\n",
       "      <th>Mean score</th>\n",
       "    </tr>\n",
       "  </thead>\n",
       "  <tbody>\n",
       "    <tr>\n",
       "      <th>0</th>\n",
       "      <td>DecisionTree</td>\n",
       "      <td>&lt;py_entitymatching.matcher.dtmatcher.DTMatcher object at 0x10eff4e10&gt;</td>\n",
       "      <td>5</td>\n",
       "      <td>0.961538</td>\n",
       "      <td>0.85</td>\n",
       "      <td>0.958333</td>\n",
       "      <td>0.842105</td>\n",
       "      <td>0.884615</td>\n",
       "      <td>0.899318</td>\n",
       "    </tr>\n",
       "    <tr>\n",
       "      <th>1</th>\n",
       "      <td>RandomForest</td>\n",
       "      <td>&lt;py_entitymatching.matcher.rfmatcher.RFMatcher object at 0x10eff47d0&gt;</td>\n",
       "      <td>5</td>\n",
       "      <td>0.961538</td>\n",
       "      <td>0.85</td>\n",
       "      <td>0.916667</td>\n",
       "      <td>0.842105</td>\n",
       "      <td>0.884615</td>\n",
       "      <td>0.890985</td>\n",
       "    </tr>\n",
       "    <tr>\n",
       "      <th>2</th>\n",
       "      <td>SVM</td>\n",
       "      <td>&lt;py_entitymatching.matcher.svmmatcher.SVMMatcher object at 0x10eff4310&gt;</td>\n",
       "      <td>5</td>\n",
       "      <td>0.884615</td>\n",
       "      <td>0.80</td>\n",
       "      <td>0.833333</td>\n",
       "      <td>0.789474</td>\n",
       "      <td>0.846154</td>\n",
       "      <td>0.830715</td>\n",
       "    </tr>\n",
       "    <tr>\n",
       "      <th>3</th>\n",
       "      <td>NaiveBayes</td>\n",
       "      <td>&lt;py_entitymatching.matcher.nbmatcher.NBMatcher object at 0x10efe2210&gt;</td>\n",
       "      <td>5</td>\n",
       "      <td>1.000000</td>\n",
       "      <td>0.95</td>\n",
       "      <td>0.958333</td>\n",
       "      <td>0.894737</td>\n",
       "      <td>0.807692</td>\n",
       "      <td>0.922152</td>\n",
       "    </tr>\n",
       "    <tr>\n",
       "      <th>4</th>\n",
       "      <td>LogisticRegression</td>\n",
       "      <td>&lt;py_entitymatching.matcher.logregmatcher.LogRegMatcher object at 0x10efe2a50&gt;</td>\n",
       "      <td>5</td>\n",
       "      <td>1.000000</td>\n",
       "      <td>0.95</td>\n",
       "      <td>1.000000</td>\n",
       "      <td>0.894737</td>\n",
       "      <td>0.923077</td>\n",
       "      <td>0.953563</td>\n",
       "    </tr>\n",
       "    <tr>\n",
       "      <th>5</th>\n",
       "      <td>LinearRegression</td>\n",
       "      <td>&lt;py_entitymatching.matcher.linregmatcher.LinRegMatcher object at 0x10efe27d0&gt;</td>\n",
       "      <td>5</td>\n",
       "      <td>0.923077</td>\n",
       "      <td>0.95</td>\n",
       "      <td>0.916667</td>\n",
       "      <td>0.789474</td>\n",
       "      <td>0.807692</td>\n",
       "      <td>0.877382</td>\n",
       "    </tr>\n",
       "  </tbody>\n",
       "</table>\n",
       "</div>"
      ],
      "text/plain": [
       "                 Name  \\\n",
       "0        DecisionTree   \n",
       "1        RandomForest   \n",
       "2                 SVM   \n",
       "3          NaiveBayes   \n",
       "4  LogisticRegression   \n",
       "5    LinearRegression   \n",
       "\n",
       "                                                                         Matcher  \\\n",
       "0          <py_entitymatching.matcher.dtmatcher.DTMatcher object at 0x10eff4e10>   \n",
       "1          <py_entitymatching.matcher.rfmatcher.RFMatcher object at 0x10eff47d0>   \n",
       "2        <py_entitymatching.matcher.svmmatcher.SVMMatcher object at 0x10eff4310>   \n",
       "3          <py_entitymatching.matcher.nbmatcher.NBMatcher object at 0x10efe2210>   \n",
       "4  <py_entitymatching.matcher.logregmatcher.LogRegMatcher object at 0x10efe2a50>   \n",
       "5  <py_entitymatching.matcher.linregmatcher.LinRegMatcher object at 0x10efe27d0>   \n",
       "\n",
       "   Num folds    Fold 1  Fold 2    Fold 3    Fold 4    Fold 5  Mean score  \n",
       "0          5  0.961538    0.85  0.958333  0.842105  0.884615    0.899318  \n",
       "1          5  0.961538    0.85  0.916667  0.842105  0.884615    0.890985  \n",
       "2          5  0.884615    0.80  0.833333  0.789474  0.846154    0.830715  \n",
       "3          5  1.000000    0.95  0.958333  0.894737  0.807692    0.922152  \n",
       "4          5  1.000000    0.95  1.000000  0.894737  0.923077    0.953563  \n",
       "5          5  0.923077    0.95  0.916667  0.789474  0.807692    0.877382  "
      ]
     },
     "execution_count": 152,
     "metadata": {},
     "output_type": "execute_result"
    }
   ],
   "source": [
    "resultRecall = em.select_matcher([dt,rf, svm, nb, lg, ln], table=feature_vectors_I_old, \n",
    "        exclude_attrs=['_id', 'ltable_ID', 'rtable_ID', 'gold'],\n",
    "        target_attr='gold', metric='recall', random_state=0)\n",
    "resultRecall['cv_stats']"
   ]
  },
  {
   "cell_type": "code",
   "execution_count": 153,
   "metadata": {},
   "outputs": [
    {
     "data": {
      "text/html": [
       "<div>\n",
       "<table border=\"1\" class=\"dataframe\">\n",
       "  <thead>\n",
       "    <tr style=\"text-align: right;\">\n",
       "      <th></th>\n",
       "      <th>Name</th>\n",
       "      <th>Matcher</th>\n",
       "      <th>Num folds</th>\n",
       "      <th>Fold 1</th>\n",
       "      <th>Fold 2</th>\n",
       "      <th>Fold 3</th>\n",
       "      <th>Fold 4</th>\n",
       "      <th>Fold 5</th>\n",
       "      <th>Mean score</th>\n",
       "    </tr>\n",
       "  </thead>\n",
       "  <tbody>\n",
       "    <tr>\n",
       "      <th>0</th>\n",
       "      <td>DecisionTree</td>\n",
       "      <td>&lt;py_entitymatching.matcher.dtmatcher.DTMatcher object at 0x10eff4e10&gt;</td>\n",
       "      <td>5</td>\n",
       "      <td>0.943396</td>\n",
       "      <td>0.894737</td>\n",
       "      <td>0.958333</td>\n",
       "      <td>0.914286</td>\n",
       "      <td>0.884615</td>\n",
       "      <td>0.919074</td>\n",
       "    </tr>\n",
       "    <tr>\n",
       "      <th>1</th>\n",
       "      <td>RandomForest</td>\n",
       "      <td>&lt;py_entitymatching.matcher.rfmatcher.RFMatcher object at 0x10eff47d0&gt;</td>\n",
       "      <td>5</td>\n",
       "      <td>0.961538</td>\n",
       "      <td>0.850000</td>\n",
       "      <td>0.956522</td>\n",
       "      <td>0.864865</td>\n",
       "      <td>0.901961</td>\n",
       "      <td>0.906977</td>\n",
       "    </tr>\n",
       "    <tr>\n",
       "      <th>2</th>\n",
       "      <td>SVM</td>\n",
       "      <td>&lt;py_entitymatching.matcher.svmmatcher.SVMMatcher object at 0x10eff4310&gt;</td>\n",
       "      <td>5</td>\n",
       "      <td>0.938776</td>\n",
       "      <td>0.888889</td>\n",
       "      <td>0.909091</td>\n",
       "      <td>0.882353</td>\n",
       "      <td>0.916667</td>\n",
       "      <td>0.907155</td>\n",
       "    </tr>\n",
       "    <tr>\n",
       "      <th>3</th>\n",
       "      <td>NaiveBayes</td>\n",
       "      <td>&lt;py_entitymatching.matcher.nbmatcher.NBMatcher object at 0x10efe2210&gt;</td>\n",
       "      <td>5</td>\n",
       "      <td>1.000000</td>\n",
       "      <td>0.926829</td>\n",
       "      <td>0.958333</td>\n",
       "      <td>0.894737</td>\n",
       "      <td>0.875000</td>\n",
       "      <td>0.930980</td>\n",
       "    </tr>\n",
       "    <tr>\n",
       "      <th>4</th>\n",
       "      <td>LogisticRegression</td>\n",
       "      <td>&lt;py_entitymatching.matcher.logregmatcher.LogRegMatcher object at 0x10efe2a50&gt;</td>\n",
       "      <td>5</td>\n",
       "      <td>0.981132</td>\n",
       "      <td>0.926829</td>\n",
       "      <td>0.979592</td>\n",
       "      <td>0.894737</td>\n",
       "      <td>0.923077</td>\n",
       "      <td>0.941073</td>\n",
       "    </tr>\n",
       "    <tr>\n",
       "      <th>5</th>\n",
       "      <td>LinearRegression</td>\n",
       "      <td>&lt;py_entitymatching.matcher.linregmatcher.LinRegMatcher object at 0x10efe27d0&gt;</td>\n",
       "      <td>5</td>\n",
       "      <td>0.941176</td>\n",
       "      <td>0.950000</td>\n",
       "      <td>0.936170</td>\n",
       "      <td>0.857143</td>\n",
       "      <td>0.875000</td>\n",
       "      <td>0.911898</td>\n",
       "    </tr>\n",
       "  </tbody>\n",
       "</table>\n",
       "</div>"
      ],
      "text/plain": [
       "                 Name  \\\n",
       "0        DecisionTree   \n",
       "1        RandomForest   \n",
       "2                 SVM   \n",
       "3          NaiveBayes   \n",
       "4  LogisticRegression   \n",
       "5    LinearRegression   \n",
       "\n",
       "                                                                         Matcher  \\\n",
       "0          <py_entitymatching.matcher.dtmatcher.DTMatcher object at 0x10eff4e10>   \n",
       "1          <py_entitymatching.matcher.rfmatcher.RFMatcher object at 0x10eff47d0>   \n",
       "2        <py_entitymatching.matcher.svmmatcher.SVMMatcher object at 0x10eff4310>   \n",
       "3          <py_entitymatching.matcher.nbmatcher.NBMatcher object at 0x10efe2210>   \n",
       "4  <py_entitymatching.matcher.logregmatcher.LogRegMatcher object at 0x10efe2a50>   \n",
       "5  <py_entitymatching.matcher.linregmatcher.LinRegMatcher object at 0x10efe27d0>   \n",
       "\n",
       "   Num folds    Fold 1    Fold 2    Fold 3    Fold 4    Fold 5  Mean score  \n",
       "0          5  0.943396  0.894737  0.958333  0.914286  0.884615    0.919074  \n",
       "1          5  0.961538  0.850000  0.956522  0.864865  0.901961    0.906977  \n",
       "2          5  0.938776  0.888889  0.909091  0.882353  0.916667    0.907155  \n",
       "3          5  1.000000  0.926829  0.958333  0.894737  0.875000    0.930980  \n",
       "4          5  0.981132  0.926829  0.979592  0.894737  0.923077    0.941073  \n",
       "5          5  0.941176  0.950000  0.936170  0.857143  0.875000    0.911898  "
      ]
     },
     "execution_count": 153,
     "metadata": {},
     "output_type": "execute_result"
    }
   ],
   "source": [
    "resultF1 = em.select_matcher([dt,rf, svm, nb, lg, ln], table=feature_vectors_I_old, \n",
    "        exclude_attrs=['_id', 'ltable_ID', 'rtable_ID', 'gold'],\n",
    "        target_attr='gold', metric='f1', random_state=0)\n",
    "resultF1['cv_stats']"
   ]
  },
  {
   "cell_type": "code",
   "execution_count": 154,
   "metadata": {},
   "outputs": [
    {
     "data": {
      "text/plain": [
       "<py_entitymatching.matcher.svmmatcher.SVMMatcher at 0x10eff4310>"
      ]
     },
     "execution_count": 154,
     "metadata": {},
     "output_type": "execute_result"
    }
   ],
   "source": [
    "result['selected_matcher']"
   ]
  },
  {
   "cell_type": "code",
   "execution_count": 155,
   "metadata": {
    "collapsed": true
   },
   "outputs": [],
   "source": [
    "splitIForDebug = em.split_train_test(feature_vectors_I_old, train_proportion=0.5)"
   ]
  },
  {
   "cell_type": "code",
   "execution_count": 156,
   "metadata": {
    "collapsed": true
   },
   "outputs": [],
   "source": [
    "A = splitIForDebug['train']\n",
    "B = splitIForDebug['test']"
   ]
  },
  {
   "cell_type": "code",
   "execution_count": 157,
   "metadata": {},
   "outputs": [
    {
     "name": "stdout",
     "output_type": "stream",
     "text": [
      "Precision : 100.0% (46/46)\n",
      "Recall : 82.14% (46/56)\n",
      "F1 : 90.2%\n",
      "False positives : 0 (out of 46 positive predictions)\n",
      "False negatives : 10 (out of 104 negative predictions)\n"
     ]
    }
   ],
   "source": [
    "svm.fit(table=A,\n",
    "       exclude_attrs=['_id', 'ltable_ID', 'rtable_ID', 'gold'],\n",
    "       target_attr='gold')\n",
    "predicted_values = svm.predict(table=B, exclude_attrs=['_id', 'ltable_ID', 'rtable_ID', 'gold'],\n",
    "              append=True, target_attr='predicted', inplace=False)\n",
    "eval_result = em.eval_matches(predicted_values, 'gold', 'predicted')\n",
    "em.print_eval_summary(eval_result)"
   ]
  },
  {
   "cell_type": "code",
   "execution_count": 158,
   "metadata": {
    "collapsed": true
   },
   "outputs": [],
   "source": [
    "# The matcher using the Title feature set is generating large number of False negatives leading to a poor Recall,"
   ]
  },
  {
   "cell_type": "code",
   "execution_count": 159,
   "metadata": {
    "collapsed": true
   },
   "outputs": [],
   "source": [
    "# Since we couldnt debug SVM we the best classifer that can be debugged ( Random Forest)"
   ]
  },
  {
   "cell_type": "code",
   "execution_count": 160,
   "metadata": {
    "collapsed": true
   },
   "outputs": [],
   "source": [
    "em.vis_debug_rf(rf, A, B, exclude_attrs=['_id', 'ltable_ID', 'rtable_ID'], target_attr='gold')"
   ]
  },
  {
   "cell_type": "code",
   "execution_count": 161,
   "metadata": {
    "collapsed": true
   },
   "outputs": [],
   "source": [
    "# We need more features to better handle certain scenarios"
   ]
  },
  {
   "cell_type": "code",
   "execution_count": 162,
   "metadata": {
    "collapsed": true
   },
   "outputs": [],
   "source": [
    "# Hence we are going to add all the features and generate new feature set to perform the needed matching"
   ]
  },
  {
   "cell_type": "code",
   "execution_count": 163,
   "metadata": {},
   "outputs": [
    {
     "name": "stderr",
     "output_type": "stream",
     "text": [
      "0%                          100%\n",
      "[##############################] | ETA: 00:00:00\n",
      "Total time elapsed: 00:00:04\n",
      "0%                          100%\n",
      "[##############################] | ETA: 00:00:00\n",
      "Total time elapsed: 00:00:04\n"
     ]
    }
   ],
   "source": [
    "feature_vectors_I = em.extract_feature_vecs(I, feature_table=feature_table, attrs_after='gold')\n",
    "feature_vectors_J = em.extract_feature_vecs(J, feature_table=feature_table, attrs_after='gold')"
   ]
  },
  {
   "cell_type": "code",
   "execution_count": 164,
   "metadata": {},
   "outputs": [
    {
     "data": {
      "text/html": [
       "<div>\n",
       "<table border=\"1\" class=\"dataframe\">\n",
       "  <thead>\n",
       "    <tr style=\"text-align: right;\">\n",
       "      <th></th>\n",
       "      <th>_id</th>\n",
       "      <th>ltable_ID</th>\n",
       "      <th>rtable_ID</th>\n",
       "      <th>ID_ID_exm</th>\n",
       "      <th>ID_ID_anm</th>\n",
       "      <th>ID_ID_lev_dist</th>\n",
       "      <th>ID_ID_lev_sim</th>\n",
       "      <th>Title_Title_jac_qgm_3_qgm_3</th>\n",
       "      <th>Title_Title_cos_dlm_dc0_dlm_dc0</th>\n",
       "      <th>Title_Title_jac_dlm_dc0_dlm_dc0</th>\n",
       "      <th>...</th>\n",
       "      <th>ProductionHouse_Merged_ProductionHouse_Merged_jwn</th>\n",
       "      <th>ProductionHouse_Merged_ProductionHouse_Merged_exm</th>\n",
       "      <th>ProductionHouse_Merged_ProductionHouse_Merged_jac_qgm_3_qgm_3</th>\n",
       "      <th>Genres_Merged_Genres_Merged_lev_dist</th>\n",
       "      <th>Genres_Merged_Genres_Merged_lev_sim</th>\n",
       "      <th>Genres_Merged_Genres_Merged_jar</th>\n",
       "      <th>Genres_Merged_Genres_Merged_jwn</th>\n",
       "      <th>Genres_Merged_Genres_Merged_exm</th>\n",
       "      <th>Genres_Merged_Genres_Merged_jac_qgm_3_qgm_3</th>\n",
       "      <th>gold</th>\n",
       "    </tr>\n",
       "  </thead>\n",
       "  <tbody>\n",
       "    <tr>\n",
       "      <th>347</th>\n",
       "      <td>8828</td>\n",
       "      <td>1597</td>\n",
       "      <td>1570</td>\n",
       "      <td>0</td>\n",
       "      <td>0.983093</td>\n",
       "      <td>2</td>\n",
       "      <td>0.5</td>\n",
       "      <td>0.137931</td>\n",
       "      <td>0.0</td>\n",
       "      <td>0.0</td>\n",
       "      <td>...</td>\n",
       "      <td>0.721026</td>\n",
       "      <td>0.0</td>\n",
       "      <td>0.048780</td>\n",
       "      <td>23.0</td>\n",
       "      <td>0.115385</td>\n",
       "      <td>0.287546</td>\n",
       "      <td>0.287546</td>\n",
       "      <td>0.0</td>\n",
       "      <td>0.000000</td>\n",
       "      <td>0</td>\n",
       "    </tr>\n",
       "    <tr>\n",
       "      <th>504</th>\n",
       "      <td>16654</td>\n",
       "      <td>2947</td>\n",
       "      <td>3126</td>\n",
       "      <td>0</td>\n",
       "      <td>0.942738</td>\n",
       "      <td>4</td>\n",
       "      <td>0.0</td>\n",
       "      <td>1.000000</td>\n",
       "      <td>1.0</td>\n",
       "      <td>1.0</td>\n",
       "      <td>...</td>\n",
       "      <td>0.821055</td>\n",
       "      <td>0.0</td>\n",
       "      <td>0.196078</td>\n",
       "      <td>30.0</td>\n",
       "      <td>0.333333</td>\n",
       "      <td>0.580159</td>\n",
       "      <td>0.580159</td>\n",
       "      <td>0.0</td>\n",
       "      <td>0.115942</td>\n",
       "      <td>1</td>\n",
       "    </tr>\n",
       "  </tbody>\n",
       "</table>\n",
       "<p>2 rows × 44 columns</p>\n",
       "</div>"
      ],
      "text/plain": [
       "       _id  ltable_ID  rtable_ID  ID_ID_exm  ID_ID_anm  ID_ID_lev_dist  \\\n",
       "347   8828       1597       1570          0   0.983093               2   \n",
       "504  16654       2947       3126          0   0.942738               4   \n",
       "\n",
       "     ID_ID_lev_sim  Title_Title_jac_qgm_3_qgm_3  \\\n",
       "347            0.5                     0.137931   \n",
       "504            0.0                     1.000000   \n",
       "\n",
       "     Title_Title_cos_dlm_dc0_dlm_dc0  Title_Title_jac_dlm_dc0_dlm_dc0  ...   \\\n",
       "347                              0.0                              0.0  ...    \n",
       "504                              1.0                              1.0  ...    \n",
       "\n",
       "     ProductionHouse_Merged_ProductionHouse_Merged_jwn  \\\n",
       "347                                           0.721026   \n",
       "504                                           0.821055   \n",
       "\n",
       "     ProductionHouse_Merged_ProductionHouse_Merged_exm  \\\n",
       "347                                                0.0   \n",
       "504                                                0.0   \n",
       "\n",
       "     ProductionHouse_Merged_ProductionHouse_Merged_jac_qgm_3_qgm_3  \\\n",
       "347                                                       0.048780   \n",
       "504                                                       0.196078   \n",
       "\n",
       "     Genres_Merged_Genres_Merged_lev_dist  \\\n",
       "347                                  23.0   \n",
       "504                                  30.0   \n",
       "\n",
       "     Genres_Merged_Genres_Merged_lev_sim  Genres_Merged_Genres_Merged_jar  \\\n",
       "347                             0.115385                         0.287546   \n",
       "504                             0.333333                         0.580159   \n",
       "\n",
       "     Genres_Merged_Genres_Merged_jwn  Genres_Merged_Genres_Merged_exm  \\\n",
       "347                         0.287546                              0.0   \n",
       "504                         0.580159                              0.0   \n",
       "\n",
       "     Genres_Merged_Genres_Merged_jac_qgm_3_qgm_3  gold  \n",
       "347                                     0.000000     0  \n",
       "504                                     0.115942     1  \n",
       "\n",
       "[2 rows x 44 columns]"
      ]
     },
     "execution_count": 164,
     "metadata": {},
     "output_type": "execute_result"
    }
   ],
   "source": [
    "feature_vectors_I.head(2)"
   ]
  },
  {
   "cell_type": "code",
   "execution_count": 165,
   "metadata": {},
   "outputs": [
    {
     "data": {
      "text/html": [
       "<div>\n",
       "<table border=\"1\" class=\"dataframe\">\n",
       "  <thead>\n",
       "    <tr style=\"text-align: right;\">\n",
       "      <th></th>\n",
       "      <th>_id</th>\n",
       "      <th>ltable_ID</th>\n",
       "      <th>rtable_ID</th>\n",
       "      <th>ID_ID_exm</th>\n",
       "      <th>ID_ID_anm</th>\n",
       "      <th>ID_ID_lev_dist</th>\n",
       "      <th>ID_ID_lev_sim</th>\n",
       "      <th>Title_Title_jac_qgm_3_qgm_3</th>\n",
       "      <th>Title_Title_cos_dlm_dc0_dlm_dc0</th>\n",
       "      <th>Title_Title_jac_dlm_dc0_dlm_dc0</th>\n",
       "      <th>...</th>\n",
       "      <th>ProductionHouse_Merged_ProductionHouse_Merged_jwn</th>\n",
       "      <th>ProductionHouse_Merged_ProductionHouse_Merged_exm</th>\n",
       "      <th>ProductionHouse_Merged_ProductionHouse_Merged_jac_qgm_3_qgm_3</th>\n",
       "      <th>Genres_Merged_Genres_Merged_lev_dist</th>\n",
       "      <th>Genres_Merged_Genres_Merged_lev_sim</th>\n",
       "      <th>Genres_Merged_Genres_Merged_jar</th>\n",
       "      <th>Genres_Merged_Genres_Merged_jwn</th>\n",
       "      <th>Genres_Merged_Genres_Merged_exm</th>\n",
       "      <th>Genres_Merged_Genres_Merged_jac_qgm_3_qgm_3</th>\n",
       "      <th>gold</th>\n",
       "    </tr>\n",
       "  </thead>\n",
       "  <tbody>\n",
       "    <tr>\n",
       "      <th>458</th>\n",
       "      <td>52874</td>\n",
       "      <td>2706</td>\n",
       "      <td>8914</td>\n",
       "      <td>0</td>\n",
       "      <td>0.303567</td>\n",
       "      <td>4</td>\n",
       "      <td>0.00</td>\n",
       "      <td>1.00</td>\n",
       "      <td>1.000000</td>\n",
       "      <td>1.0</td>\n",
       "      <td>...</td>\n",
       "      <td>1.000000</td>\n",
       "      <td>1.0</td>\n",
       "      <td>1.0</td>\n",
       "      <td>32.0</td>\n",
       "      <td>0.238095</td>\n",
       "      <td>0.600866</td>\n",
       "      <td>0.600866</td>\n",
       "      <td>0.0</td>\n",
       "      <td>0.101449</td>\n",
       "      <td>1</td>\n",
       "    </tr>\n",
       "    <tr>\n",
       "      <th>280</th>\n",
       "      <td>31956</td>\n",
       "      <td>1170</td>\n",
       "      <td>6674</td>\n",
       "      <td>0</td>\n",
       "      <td>0.175307</td>\n",
       "      <td>3</td>\n",
       "      <td>0.25</td>\n",
       "      <td>0.25</td>\n",
       "      <td>0.333333</td>\n",
       "      <td>0.2</td>\n",
       "      <td>...</td>\n",
       "      <td>0.400673</td>\n",
       "      <td>0.0</td>\n",
       "      <td>0.0</td>\n",
       "      <td>0.0</td>\n",
       "      <td>0.000000</td>\n",
       "      <td>0.000000</td>\n",
       "      <td>0.000000</td>\n",
       "      <td>0.0</td>\n",
       "      <td>0.000000</td>\n",
       "      <td>0</td>\n",
       "    </tr>\n",
       "  </tbody>\n",
       "</table>\n",
       "<p>2 rows × 44 columns</p>\n",
       "</div>"
      ],
      "text/plain": [
       "       _id  ltable_ID  rtable_ID  ID_ID_exm  ID_ID_anm  ID_ID_lev_dist  \\\n",
       "458  52874       2706       8914          0   0.303567               4   \n",
       "280  31956       1170       6674          0   0.175307               3   \n",
       "\n",
       "     ID_ID_lev_sim  Title_Title_jac_qgm_3_qgm_3  \\\n",
       "458           0.00                         1.00   \n",
       "280           0.25                         0.25   \n",
       "\n",
       "     Title_Title_cos_dlm_dc0_dlm_dc0  Title_Title_jac_dlm_dc0_dlm_dc0  ...   \\\n",
       "458                         1.000000                              1.0  ...    \n",
       "280                         0.333333                              0.2  ...    \n",
       "\n",
       "     ProductionHouse_Merged_ProductionHouse_Merged_jwn  \\\n",
       "458                                           1.000000   \n",
       "280                                           0.400673   \n",
       "\n",
       "     ProductionHouse_Merged_ProductionHouse_Merged_exm  \\\n",
       "458                                                1.0   \n",
       "280                                                0.0   \n",
       "\n",
       "     ProductionHouse_Merged_ProductionHouse_Merged_jac_qgm_3_qgm_3  \\\n",
       "458                                                            1.0   \n",
       "280                                                            0.0   \n",
       "\n",
       "     Genres_Merged_Genres_Merged_lev_dist  \\\n",
       "458                                  32.0   \n",
       "280                                   0.0   \n",
       "\n",
       "     Genres_Merged_Genres_Merged_lev_sim  Genres_Merged_Genres_Merged_jar  \\\n",
       "458                             0.238095                         0.600866   \n",
       "280                             0.000000                         0.000000   \n",
       "\n",
       "     Genres_Merged_Genres_Merged_jwn  Genres_Merged_Genres_Merged_exm  \\\n",
       "458                         0.600866                              0.0   \n",
       "280                         0.000000                              0.0   \n",
       "\n",
       "     Genres_Merged_Genres_Merged_jac_qgm_3_qgm_3  gold  \n",
       "458                                     0.101449     1  \n",
       "280                                     0.000000     0  \n",
       "\n",
       "[2 rows x 44 columns]"
      ]
     },
     "execution_count": 165,
     "metadata": {},
     "output_type": "execute_result"
    }
   ],
   "source": [
    "feature_vectors_I.fillna(0, inplace=True)\n",
    "feature_vectors_J.fillna(0, inplace=True)\n",
    "feature_vectors_I.head(2)\n",
    "feature_vectors_J.head(2)"
   ]
  },
  {
   "cell_type": "code",
   "execution_count": 166,
   "metadata": {
    "collapsed": true
   },
   "outputs": [],
   "source": [
    "result = em.select_matcher([dt,rf, svm, nb, lg, ln], table=feature_vectors_I, \n",
    "        exclude_attrs=['_id', 'ltable_ID', 'rtable_ID', 'gold'],\n",
    "        target_attr='gold', metric='precision', random_state=0)"
   ]
  },
  {
   "cell_type": "code",
   "execution_count": 167,
   "metadata": {},
   "outputs": [
    {
     "data": {
      "text/plain": [
       "OrderedDict([('selected_matcher',\n",
       "              <py_entitymatching.matcher.rfmatcher.RFMatcher at 0x10eff47d0>),\n",
       "             ('cv_stats',                  Name  \\\n",
       "              0        DecisionTree   \n",
       "              1        RandomForest   \n",
       "              2                 SVM   \n",
       "              3          NaiveBayes   \n",
       "              4  LogisticRegression   \n",
       "              5    LinearRegression   \n",
       "              \n",
       "                                                                                       Matcher  \\\n",
       "              0          <py_entitymatching.matcher.dtmatcher.DTMatcher object at 0x10eff4e10>   \n",
       "              1          <py_entitymatching.matcher.rfmatcher.RFMatcher object at 0x10eff47d0>   \n",
       "              2        <py_entitymatching.matcher.svmmatcher.SVMMatcher object at 0x10eff4310>   \n",
       "              3          <py_entitymatching.matcher.nbmatcher.NBMatcher object at 0x10efe2210>   \n",
       "              4  <py_entitymatching.matcher.logregmatcher.LogRegMatcher object at 0x10efe2a50>   \n",
       "              5  <py_entitymatching.matcher.linregmatcher.LinRegMatcher object at 0x10efe27d0>   \n",
       "              \n",
       "                 Num folds    Fold 1  Fold 2    Fold 3    Fold 4    Fold 5  Mean score  \n",
       "              0          5  1.000000    0.85  0.923077  0.857143  1.000000    0.926044  \n",
       "              1          5  1.000000    1.00  1.000000  1.000000  1.000000    1.000000  \n",
       "              2          5  1.000000    1.00  1.000000  1.000000  1.000000    1.000000  \n",
       "              3          5  1.000000    0.90  0.958333  0.947368  1.000000    0.961140  \n",
       "              4          5  0.962963    0.90  1.000000  0.900000  0.923077    0.937208  \n",
       "              5          5  1.000000    0.95  0.960000  1.000000  1.000000    0.982000  )])"
      ]
     },
     "execution_count": 167,
     "metadata": {},
     "output_type": "execute_result"
    }
   ],
   "source": [
    "result"
   ]
  },
  {
   "cell_type": "code",
   "execution_count": 168,
   "metadata": {},
   "outputs": [
    {
     "data": {
      "text/html": [
       "<div>\n",
       "<table border=\"1\" class=\"dataframe\">\n",
       "  <thead>\n",
       "    <tr style=\"text-align: right;\">\n",
       "      <th></th>\n",
       "      <th>Name</th>\n",
       "      <th>Matcher</th>\n",
       "      <th>Num folds</th>\n",
       "      <th>Fold 1</th>\n",
       "      <th>Fold 2</th>\n",
       "      <th>Fold 3</th>\n",
       "      <th>Fold 4</th>\n",
       "      <th>Fold 5</th>\n",
       "      <th>Mean score</th>\n",
       "    </tr>\n",
       "  </thead>\n",
       "  <tbody>\n",
       "    <tr>\n",
       "      <th>0</th>\n",
       "      <td>DecisionTree</td>\n",
       "      <td>&lt;py_entitymatching.matcher.dtmatcher.DTMatcher object at 0x10eff4e10&gt;</td>\n",
       "      <td>5</td>\n",
       "      <td>1.000000</td>\n",
       "      <td>0.85</td>\n",
       "      <td>0.923077</td>\n",
       "      <td>0.857143</td>\n",
       "      <td>1.000000</td>\n",
       "      <td>0.926044</td>\n",
       "    </tr>\n",
       "    <tr>\n",
       "      <th>1</th>\n",
       "      <td>RandomForest</td>\n",
       "      <td>&lt;py_entitymatching.matcher.rfmatcher.RFMatcher object at 0x10eff47d0&gt;</td>\n",
       "      <td>5</td>\n",
       "      <td>1.000000</td>\n",
       "      <td>1.00</td>\n",
       "      <td>1.000000</td>\n",
       "      <td>1.000000</td>\n",
       "      <td>1.000000</td>\n",
       "      <td>1.000000</td>\n",
       "    </tr>\n",
       "    <tr>\n",
       "      <th>2</th>\n",
       "      <td>SVM</td>\n",
       "      <td>&lt;py_entitymatching.matcher.svmmatcher.SVMMatcher object at 0x10eff4310&gt;</td>\n",
       "      <td>5</td>\n",
       "      <td>1.000000</td>\n",
       "      <td>1.00</td>\n",
       "      <td>1.000000</td>\n",
       "      <td>1.000000</td>\n",
       "      <td>1.000000</td>\n",
       "      <td>1.000000</td>\n",
       "    </tr>\n",
       "    <tr>\n",
       "      <th>3</th>\n",
       "      <td>NaiveBayes</td>\n",
       "      <td>&lt;py_entitymatching.matcher.nbmatcher.NBMatcher object at 0x10efe2210&gt;</td>\n",
       "      <td>5</td>\n",
       "      <td>1.000000</td>\n",
       "      <td>0.90</td>\n",
       "      <td>0.958333</td>\n",
       "      <td>0.947368</td>\n",
       "      <td>1.000000</td>\n",
       "      <td>0.961140</td>\n",
       "    </tr>\n",
       "    <tr>\n",
       "      <th>4</th>\n",
       "      <td>LogisticRegression</td>\n",
       "      <td>&lt;py_entitymatching.matcher.logregmatcher.LogRegMatcher object at 0x10efe2a50&gt;</td>\n",
       "      <td>5</td>\n",
       "      <td>0.962963</td>\n",
       "      <td>0.90</td>\n",
       "      <td>1.000000</td>\n",
       "      <td>0.900000</td>\n",
       "      <td>0.923077</td>\n",
       "      <td>0.937208</td>\n",
       "    </tr>\n",
       "    <tr>\n",
       "      <th>5</th>\n",
       "      <td>LinearRegression</td>\n",
       "      <td>&lt;py_entitymatching.matcher.linregmatcher.LinRegMatcher object at 0x10efe27d0&gt;</td>\n",
       "      <td>5</td>\n",
       "      <td>1.000000</td>\n",
       "      <td>0.95</td>\n",
       "      <td>0.960000</td>\n",
       "      <td>1.000000</td>\n",
       "      <td>1.000000</td>\n",
       "      <td>0.982000</td>\n",
       "    </tr>\n",
       "  </tbody>\n",
       "</table>\n",
       "</div>"
      ],
      "text/plain": [
       "                 Name  \\\n",
       "0        DecisionTree   \n",
       "1        RandomForest   \n",
       "2                 SVM   \n",
       "3          NaiveBayes   \n",
       "4  LogisticRegression   \n",
       "5    LinearRegression   \n",
       "\n",
       "                                                                         Matcher  \\\n",
       "0          <py_entitymatching.matcher.dtmatcher.DTMatcher object at 0x10eff4e10>   \n",
       "1          <py_entitymatching.matcher.rfmatcher.RFMatcher object at 0x10eff47d0>   \n",
       "2        <py_entitymatching.matcher.svmmatcher.SVMMatcher object at 0x10eff4310>   \n",
       "3          <py_entitymatching.matcher.nbmatcher.NBMatcher object at 0x10efe2210>   \n",
       "4  <py_entitymatching.matcher.logregmatcher.LogRegMatcher object at 0x10efe2a50>   \n",
       "5  <py_entitymatching.matcher.linregmatcher.LinRegMatcher object at 0x10efe27d0>   \n",
       "\n",
       "   Num folds    Fold 1  Fold 2    Fold 3    Fold 4    Fold 5  Mean score  \n",
       "0          5  1.000000    0.85  0.923077  0.857143  1.000000    0.926044  \n",
       "1          5  1.000000    1.00  1.000000  1.000000  1.000000    1.000000  \n",
       "2          5  1.000000    1.00  1.000000  1.000000  1.000000    1.000000  \n",
       "3          5  1.000000    0.90  0.958333  0.947368  1.000000    0.961140  \n",
       "4          5  0.962963    0.90  1.000000  0.900000  0.923077    0.937208  \n",
       "5          5  1.000000    0.95  0.960000  1.000000  1.000000    0.982000  "
      ]
     },
     "execution_count": 168,
     "metadata": {},
     "output_type": "execute_result"
    }
   ],
   "source": [
    "result['cv_stats']"
   ]
  },
  {
   "cell_type": "code",
   "execution_count": 169,
   "metadata": {},
   "outputs": [
    {
     "data": {
      "text/html": [
       "<div>\n",
       "<table border=\"1\" class=\"dataframe\">\n",
       "  <thead>\n",
       "    <tr style=\"text-align: right;\">\n",
       "      <th></th>\n",
       "      <th>Name</th>\n",
       "      <th>Matcher</th>\n",
       "      <th>Num folds</th>\n",
       "      <th>Fold 1</th>\n",
       "      <th>Fold 2</th>\n",
       "      <th>Fold 3</th>\n",
       "      <th>Fold 4</th>\n",
       "      <th>Fold 5</th>\n",
       "      <th>Mean score</th>\n",
       "    </tr>\n",
       "  </thead>\n",
       "  <tbody>\n",
       "    <tr>\n",
       "      <th>0</th>\n",
       "      <td>DecisionTree</td>\n",
       "      <td>&lt;py_entitymatching.matcher.dtmatcher.DTMatcher object at 0x10eff4e10&gt;</td>\n",
       "      <td>5</td>\n",
       "      <td>1.000000</td>\n",
       "      <td>0.85</td>\n",
       "      <td>1.000000</td>\n",
       "      <td>0.947368</td>\n",
       "      <td>0.923077</td>\n",
       "      <td>0.944089</td>\n",
       "    </tr>\n",
       "    <tr>\n",
       "      <th>1</th>\n",
       "      <td>RandomForest</td>\n",
       "      <td>&lt;py_entitymatching.matcher.rfmatcher.RFMatcher object at 0x10eff47d0&gt;</td>\n",
       "      <td>5</td>\n",
       "      <td>0.961538</td>\n",
       "      <td>0.95</td>\n",
       "      <td>0.958333</td>\n",
       "      <td>0.894737</td>\n",
       "      <td>0.884615</td>\n",
       "      <td>0.929845</td>\n",
       "    </tr>\n",
       "    <tr>\n",
       "      <th>2</th>\n",
       "      <td>SVM</td>\n",
       "      <td>&lt;py_entitymatching.matcher.svmmatcher.SVMMatcher object at 0x10eff4310&gt;</td>\n",
       "      <td>5</td>\n",
       "      <td>0.307692</td>\n",
       "      <td>0.40</td>\n",
       "      <td>0.375000</td>\n",
       "      <td>0.368421</td>\n",
       "      <td>0.423077</td>\n",
       "      <td>0.374838</td>\n",
       "    </tr>\n",
       "    <tr>\n",
       "      <th>3</th>\n",
       "      <td>NaiveBayes</td>\n",
       "      <td>&lt;py_entitymatching.matcher.nbmatcher.NBMatcher object at 0x10efe2210&gt;</td>\n",
       "      <td>5</td>\n",
       "      <td>1.000000</td>\n",
       "      <td>0.90</td>\n",
       "      <td>0.958333</td>\n",
       "      <td>0.947368</td>\n",
       "      <td>0.923077</td>\n",
       "      <td>0.945756</td>\n",
       "    </tr>\n",
       "    <tr>\n",
       "      <th>4</th>\n",
       "      <td>LogisticRegression</td>\n",
       "      <td>&lt;py_entitymatching.matcher.logregmatcher.LogRegMatcher object at 0x10efe2a50&gt;</td>\n",
       "      <td>5</td>\n",
       "      <td>1.000000</td>\n",
       "      <td>0.90</td>\n",
       "      <td>1.000000</td>\n",
       "      <td>0.947368</td>\n",
       "      <td>0.923077</td>\n",
       "      <td>0.954089</td>\n",
       "    </tr>\n",
       "    <tr>\n",
       "      <th>5</th>\n",
       "      <td>LinearRegression</td>\n",
       "      <td>&lt;py_entitymatching.matcher.linregmatcher.LinRegMatcher object at 0x10efe27d0&gt;</td>\n",
       "      <td>5</td>\n",
       "      <td>0.961538</td>\n",
       "      <td>0.95</td>\n",
       "      <td>1.000000</td>\n",
       "      <td>1.000000</td>\n",
       "      <td>0.923077</td>\n",
       "      <td>0.966923</td>\n",
       "    </tr>\n",
       "  </tbody>\n",
       "</table>\n",
       "</div>"
      ],
      "text/plain": [
       "                 Name  \\\n",
       "0        DecisionTree   \n",
       "1        RandomForest   \n",
       "2                 SVM   \n",
       "3          NaiveBayes   \n",
       "4  LogisticRegression   \n",
       "5    LinearRegression   \n",
       "\n",
       "                                                                         Matcher  \\\n",
       "0          <py_entitymatching.matcher.dtmatcher.DTMatcher object at 0x10eff4e10>   \n",
       "1          <py_entitymatching.matcher.rfmatcher.RFMatcher object at 0x10eff47d0>   \n",
       "2        <py_entitymatching.matcher.svmmatcher.SVMMatcher object at 0x10eff4310>   \n",
       "3          <py_entitymatching.matcher.nbmatcher.NBMatcher object at 0x10efe2210>   \n",
       "4  <py_entitymatching.matcher.logregmatcher.LogRegMatcher object at 0x10efe2a50>   \n",
       "5  <py_entitymatching.matcher.linregmatcher.LinRegMatcher object at 0x10efe27d0>   \n",
       "\n",
       "   Num folds    Fold 1  Fold 2    Fold 3    Fold 4    Fold 5  Mean score  \n",
       "0          5  1.000000    0.85  1.000000  0.947368  0.923077    0.944089  \n",
       "1          5  0.961538    0.95  0.958333  0.894737  0.884615    0.929845  \n",
       "2          5  0.307692    0.40  0.375000  0.368421  0.423077    0.374838  \n",
       "3          5  1.000000    0.90  0.958333  0.947368  0.923077    0.945756  \n",
       "4          5  1.000000    0.90  1.000000  0.947368  0.923077    0.954089  \n",
       "5          5  0.961538    0.95  1.000000  1.000000  0.923077    0.966923  "
      ]
     },
     "execution_count": 169,
     "metadata": {},
     "output_type": "execute_result"
    }
   ],
   "source": [
    "resultRecall = em.select_matcher([dt,rf, svm, nb, lg, ln], table=feature_vectors_I, \n",
    "        exclude_attrs=['_id', 'ltable_ID', 'rtable_ID', 'gold'],\n",
    "        target_attr='gold', metric='recall', random_state=0) \n",
    "resultRecall['cv_stats']"
   ]
  },
  {
   "cell_type": "code",
   "execution_count": 170,
   "metadata": {},
   "outputs": [
    {
     "data": {
      "text/html": [
       "<div>\n",
       "<table border=\"1\" class=\"dataframe\">\n",
       "  <thead>\n",
       "    <tr style=\"text-align: right;\">\n",
       "      <th></th>\n",
       "      <th>Name</th>\n",
       "      <th>Matcher</th>\n",
       "      <th>Num folds</th>\n",
       "      <th>Fold 1</th>\n",
       "      <th>Fold 2</th>\n",
       "      <th>Fold 3</th>\n",
       "      <th>Fold 4</th>\n",
       "      <th>Fold 5</th>\n",
       "      <th>Mean score</th>\n",
       "    </tr>\n",
       "  </thead>\n",
       "  <tbody>\n",
       "    <tr>\n",
       "      <th>0</th>\n",
       "      <td>DecisionTree</td>\n",
       "      <td>&lt;py_entitymatching.matcher.dtmatcher.DTMatcher object at 0x10eff4e10&gt;</td>\n",
       "      <td>5</td>\n",
       "      <td>1.000000</td>\n",
       "      <td>0.850000</td>\n",
       "      <td>0.960000</td>\n",
       "      <td>0.900000</td>\n",
       "      <td>0.960000</td>\n",
       "      <td>0.934000</td>\n",
       "    </tr>\n",
       "    <tr>\n",
       "      <th>1</th>\n",
       "      <td>RandomForest</td>\n",
       "      <td>&lt;py_entitymatching.matcher.rfmatcher.RFMatcher object at 0x10eff47d0&gt;</td>\n",
       "      <td>5</td>\n",
       "      <td>0.980392</td>\n",
       "      <td>0.974359</td>\n",
       "      <td>0.978723</td>\n",
       "      <td>0.944444</td>\n",
       "      <td>0.938776</td>\n",
       "      <td>0.963339</td>\n",
       "    </tr>\n",
       "    <tr>\n",
       "      <th>2</th>\n",
       "      <td>SVM</td>\n",
       "      <td>&lt;py_entitymatching.matcher.svmmatcher.SVMMatcher object at 0x10eff4310&gt;</td>\n",
       "      <td>5</td>\n",
       "      <td>0.470588</td>\n",
       "      <td>0.571429</td>\n",
       "      <td>0.545455</td>\n",
       "      <td>0.538462</td>\n",
       "      <td>0.594595</td>\n",
       "      <td>0.544105</td>\n",
       "    </tr>\n",
       "    <tr>\n",
       "      <th>3</th>\n",
       "      <td>NaiveBayes</td>\n",
       "      <td>&lt;py_entitymatching.matcher.nbmatcher.NBMatcher object at 0x10efe2210&gt;</td>\n",
       "      <td>5</td>\n",
       "      <td>1.000000</td>\n",
       "      <td>0.900000</td>\n",
       "      <td>0.958333</td>\n",
       "      <td>0.947368</td>\n",
       "      <td>0.960000</td>\n",
       "      <td>0.953140</td>\n",
       "    </tr>\n",
       "    <tr>\n",
       "      <th>4</th>\n",
       "      <td>LogisticRegression</td>\n",
       "      <td>&lt;py_entitymatching.matcher.logregmatcher.LogRegMatcher object at 0x10efe2a50&gt;</td>\n",
       "      <td>5</td>\n",
       "      <td>0.981132</td>\n",
       "      <td>0.900000</td>\n",
       "      <td>1.000000</td>\n",
       "      <td>0.923077</td>\n",
       "      <td>0.923077</td>\n",
       "      <td>0.945457</td>\n",
       "    </tr>\n",
       "    <tr>\n",
       "      <th>5</th>\n",
       "      <td>LinearRegression</td>\n",
       "      <td>&lt;py_entitymatching.matcher.linregmatcher.LinRegMatcher object at 0x10efe27d0&gt;</td>\n",
       "      <td>5</td>\n",
       "      <td>0.980392</td>\n",
       "      <td>0.950000</td>\n",
       "      <td>0.979592</td>\n",
       "      <td>1.000000</td>\n",
       "      <td>0.960000</td>\n",
       "      <td>0.973997</td>\n",
       "    </tr>\n",
       "  </tbody>\n",
       "</table>\n",
       "</div>"
      ],
      "text/plain": [
       "                 Name  \\\n",
       "0        DecisionTree   \n",
       "1        RandomForest   \n",
       "2                 SVM   \n",
       "3          NaiveBayes   \n",
       "4  LogisticRegression   \n",
       "5    LinearRegression   \n",
       "\n",
       "                                                                         Matcher  \\\n",
       "0          <py_entitymatching.matcher.dtmatcher.DTMatcher object at 0x10eff4e10>   \n",
       "1          <py_entitymatching.matcher.rfmatcher.RFMatcher object at 0x10eff47d0>   \n",
       "2        <py_entitymatching.matcher.svmmatcher.SVMMatcher object at 0x10eff4310>   \n",
       "3          <py_entitymatching.matcher.nbmatcher.NBMatcher object at 0x10efe2210>   \n",
       "4  <py_entitymatching.matcher.logregmatcher.LogRegMatcher object at 0x10efe2a50>   \n",
       "5  <py_entitymatching.matcher.linregmatcher.LinRegMatcher object at 0x10efe27d0>   \n",
       "\n",
       "   Num folds    Fold 1    Fold 2    Fold 3    Fold 4    Fold 5  Mean score  \n",
       "0          5  1.000000  0.850000  0.960000  0.900000  0.960000    0.934000  \n",
       "1          5  0.980392  0.974359  0.978723  0.944444  0.938776    0.963339  \n",
       "2          5  0.470588  0.571429  0.545455  0.538462  0.594595    0.544105  \n",
       "3          5  1.000000  0.900000  0.958333  0.947368  0.960000    0.953140  \n",
       "4          5  0.981132  0.900000  1.000000  0.923077  0.923077    0.945457  \n",
       "5          5  0.980392  0.950000  0.979592  1.000000  0.960000    0.973997  "
      ]
     },
     "execution_count": 170,
     "metadata": {},
     "output_type": "execute_result"
    }
   ],
   "source": [
    "resultF1 = em.select_matcher([dt,rf, svm, nb, lg, ln], table=feature_vectors_I, \n",
    "        exclude_attrs=['_id', 'ltable_ID', 'rtable_ID', 'gold'],\n",
    "        target_attr='gold', metric='f1', random_state=0) \n",
    "resultF1['cv_stats']"
   ]
  },
  {
   "cell_type": "code",
   "execution_count": 171,
   "metadata": {},
   "outputs": [
    {
     "data": {
      "text/plain": [
       "<py_entitymatching.matcher.rfmatcher.RFMatcher at 0x10eff47d0>"
      ]
     },
     "execution_count": 171,
     "metadata": {},
     "output_type": "execute_result"
    }
   ],
   "source": [
    "result['selected_matcher']"
   ]
  },
  {
   "cell_type": "code",
   "execution_count": 172,
   "metadata": {
    "collapsed": true
   },
   "outputs": [],
   "source": [
    "splitIForDebug = em.split_train_test(feature_vectors_I, train_proportion=0.5)"
   ]
  },
  {
   "cell_type": "code",
   "execution_count": 173,
   "metadata": {
    "collapsed": true
   },
   "outputs": [],
   "source": [
    "A = splitIForDebug['train']\n",
    "B = splitIForDebug['test']"
   ]
  },
  {
   "cell_type": "code",
   "execution_count": 174,
   "metadata": {
    "collapsed": true
   },
   "outputs": [],
   "source": [
    "em.vis_debug_rf(rf, A, B, exclude_attrs=['_id', 'ltable_ID', 'rtable_ID'], target_attr='gold')"
   ]
  },
  {
   "cell_type": "code",
   "execution_count": 175,
   "metadata": {},
   "outputs": [
    {
     "name": "stdout",
     "output_type": "stream",
     "text": [
      "Precision : 96.61% (57/59)\n",
      "Recall : 93.44% (57/61)\n",
      "F1 : 95.0%\n",
      "False positives : 2 (out of 59 positive predictions)\n",
      "False negatives : 4 (out of 91 negative predictions)\n"
     ]
    }
   ],
   "source": [
    "# 1. Train RF using A\n",
    "# 2. Predict B using RF\n",
    "# 3. Evaluate predictions\n",
    "rf.fit(table=A,\n",
    "       exclude_attrs=['_id', 'ltable_ID', 'rtable_ID', 'gold'],\n",
    "       target_attr='gold')\n",
    "predicted_values = rf.predict(table=B, exclude_attrs=['_id', 'ltable_ID', 'rtable_ID', 'gold'],\n",
    "              append=True, target_attr='predicted', inplace=False)\n",
    "eval_result = em.eval_matches(predicted_values, 'gold', 'predicted')\n",
    "em.print_eval_summary(eval_result)"
   ]
  },
  {
   "cell_type": "code",
   "execution_count": 176,
   "metadata": {},
   "outputs": [
    {
     "name": "stdout",
     "output_type": "stream",
     "text": [
      "Precision : 100.0% (120/120)\n",
      "Recall : 94.49% (120/127)\n",
      "F1 : 97.17%\n",
      "False positives : 0 (out of 120 positive predictions)\n",
      "False negatives : 7 (out of 180 negative predictions)\n"
     ]
    }
   ],
   "source": [
    "# 1. Train RF using I\n",
    "# 2. Predict J using RF\n",
    "# 3. Evaluate predictions\n",
    "rf.fit(table=feature_vectors_I,\n",
    "       exclude_attrs=['_id', 'ltable_ID', 'rtable_ID', 'gold'],\n",
    "       target_attr='gold')\n",
    "predicted_values = rf.predict(table=feature_vectors_J, exclude_attrs=['_id', 'ltable_ID', 'rtable_ID', 'gold'],\n",
    "              append=True, target_attr='predicted', inplace=False)\n",
    "eval_result = em.eval_matches(predicted_values, 'gold', 'predicted')\n",
    "em.print_eval_summary(eval_result)"
   ]
  },
  {
   "cell_type": "code",
   "execution_count": 177,
   "metadata": {
    "collapsed": true
   },
   "outputs": [],
   "source": [
    "#em.vis_debug_rf(rf, feature_vectors_I, feature_vectors_J, exclude_attrs=['_id', 'ltable_ID', 'rtable_ID'], target_attr='gold')"
   ]
  },
  {
   "cell_type": "code",
   "execution_count": 178,
   "metadata": {},
   "outputs": [
    {
     "name": "stdout",
     "output_type": "stream",
     "text": [
      "Precision : 98.41% (124/126)\n",
      "Recall : 97.64% (124/127)\n",
      "F1 : 98.02%\n",
      "False positives : 2 (out of 126 positive predictions)\n",
      "False negatives : 3 (out of 174 negative predictions)\n"
     ]
    }
   ],
   "source": [
    "# 1. Train DT using I\n",
    "# 2. Predict J using RF\n",
    "# 3. Evaluate predictions\n",
    "dt.fit(table=feature_vectors_I,\n",
    "       exclude_attrs=['_id', 'ltable_ID', 'rtable_ID', 'gold'],\n",
    "       target_attr='gold')\n",
    "predicted_values = dt.predict(table=feature_vectors_J, exclude_attrs=['_id', 'ltable_ID', 'rtable_ID', 'gold'],\n",
    "              append=True, target_attr='predicted', inplace=False)\n",
    "eval_result = em.eval_matches(predicted_values, 'gold', 'predicted')\n",
    "em.print_eval_summary(eval_result)"
   ]
  },
  {
   "cell_type": "code",
   "execution_count": 179,
   "metadata": {},
   "outputs": [
    {
     "name": "stdout",
     "output_type": "stream",
     "text": [
      "Precision : 100.0% (60/60)\n",
      "Recall : 47.24% (60/127)\n",
      "F1 : 64.17%\n",
      "False positives : 0 (out of 60 positive predictions)\n",
      "False negatives : 67 (out of 240 negative predictions)\n"
     ]
    }
   ],
   "source": [
    "# 1. Train SVM using I\n",
    "# 2. Predict J using RF\n",
    "# 3. Evaluate predictions\n",
    "svm.fit(table=feature_vectors_I,\n",
    "       exclude_attrs=['_id', 'ltable_ID', 'rtable_ID', 'gold'],\n",
    "       target_attr='gold')\n",
    "predicted_values = svm.predict(table=feature_vectors_J, exclude_attrs=['_id', 'ltable_ID', 'rtable_ID', 'gold'],\n",
    "              append=True, target_attr='predicted', inplace=False)\n",
    "eval_result = em.eval_matches(predicted_values, 'gold', 'predicted')\n",
    "em.print_eval_summary(eval_result)"
   ]
  },
  {
   "cell_type": "code",
   "execution_count": 180,
   "metadata": {},
   "outputs": [
    {
     "name": "stdout",
     "output_type": "stream",
     "text": [
      "Precision : 98.29% (115/117)\n",
      "Recall : 90.55% (115/127)\n",
      "F1 : 94.26%\n",
      "False positives : 2 (out of 117 positive predictions)\n",
      "False negatives : 12 (out of 183 negative predictions)\n"
     ]
    }
   ],
   "source": [
    "# 1. Train NB using I\n",
    "# 2. Predict J using RF\n",
    "# 3. Evaluate predictions\n",
    "nb.fit(table=feature_vectors_I,\n",
    "       exclude_attrs=['_id', 'ltable_ID', 'rtable_ID', 'gold'],\n",
    "       target_attr='gold')\n",
    "predicted_values = nb.predict(table=feature_vectors_J, exclude_attrs=['_id', 'ltable_ID', 'rtable_ID', 'gold'],\n",
    "              append=True, target_attr='predicted', inplace=False)\n",
    "eval_result = em.eval_matches(predicted_values, 'gold', 'predicted')\n",
    "em.print_eval_summary(eval_result)"
   ]
  },
  {
   "cell_type": "code",
   "execution_count": 181,
   "metadata": {},
   "outputs": [
    {
     "name": "stdout",
     "output_type": "stream",
     "text": [
      "Precision : 96.67% (116/120)\n",
      "Recall : 91.34% (116/127)\n",
      "F1 : 93.93%\n",
      "False positives : 4 (out of 120 positive predictions)\n",
      "False negatives : 11 (out of 180 negative predictions)\n"
     ]
    }
   ],
   "source": [
    "# 1. Train LG using I\n",
    "# 2. Predict J using RF\n",
    "# 3. Evaluate predictions\n",
    "lg.fit(table=feature_vectors_I,\n",
    "       exclude_attrs=['_id', 'ltable_ID', 'rtable_ID', 'gold'],\n",
    "       target_attr='gold')\n",
    "predicted_values = lg.predict(table=feature_vectors_J, exclude_attrs=['_id', 'ltable_ID', 'rtable_ID', 'gold'],\n",
    "              append=True, target_attr='predicted', inplace=False)\n",
    "eval_result = em.eval_matches(predicted_values, 'gold', 'predicted')\n",
    "em.print_eval_summary(eval_result)"
   ]
  },
  {
   "cell_type": "code",
   "execution_count": 182,
   "metadata": {},
   "outputs": [
    {
     "name": "stdout",
     "output_type": "stream",
     "text": [
      "Precision : 99.2% (124/125)\n",
      "Recall : 97.64% (124/127)\n",
      "F1 : 98.41%\n",
      "False positives : 1 (out of 125 positive predictions)\n",
      "False negatives : 3 (out of 175 negative predictions)\n"
     ]
    }
   ],
   "source": [
    "# 1. Train LN using I\n",
    "# 2. Predict J using RF\n",
    "# 3. Evaluate predictions\n",
    "ln.fit(table=feature_vectors_I,\n",
    "       exclude_attrs=['_id', 'ltable_ID', 'rtable_ID', 'gold'],\n",
    "       target_attr='gold')\n",
    "predicted_values = ln.predict(table=feature_vectors_J, exclude_attrs=['_id', 'ltable_ID', 'rtable_ID', 'gold'],\n",
    "              append=True, target_attr='predicted', inplace=False)\n",
    "eval_result = em.eval_matches(predicted_values, 'gold', 'predicted')\n",
    "em.print_eval_summary(eval_result)"
   ]
  },
  {
   "cell_type": "code",
   "execution_count": null,
   "metadata": {
    "collapsed": true
   },
   "outputs": [],
   "source": [
    ""
   ]
  },
  {
   "cell_type": "code",
   "execution_count": null,
   "metadata": {
    "collapsed": true
   },
   "outputs": [],
   "source": [
    ""
   ]
  }
 ],
 "metadata": {
  "anaconda-cloud": {},
  "kernelspec": {
   "display_name": "Python 3",
   "language": "python",
   "name": "python3"
  },
  "language_info": {
   "codemirror_mode": {
    "name": "ipython",
    "version": 3.0
   },
   "file_extension": ".py",
   "mimetype": "text/x-python",
   "name": "python",
   "nbconvert_exporter": "python",
   "pygments_lexer": "ipython3",
   "version": "3.5.3"
  }
 },
 "nbformat": 4,
 "nbformat_minor": 0
}